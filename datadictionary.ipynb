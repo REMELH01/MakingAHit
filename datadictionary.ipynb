{
 "cells": [
  {
   "cell_type": "markdown",
   "metadata": {},
   "source": [
    "# Data Dictionary"
   ]
  },
  {
   "cell_type": "markdown",
   "metadata": {},
   "source": [
    "## Billboard Top 100 Dataset\n",
    "\n",
    "| Column Name | Data Type | Description |\n",
    "| --- | --- | --- |\n",
    "| date | object | Date the song charted |\n",
    "| rank | int64 | What the song ranked on the date |\n",
    "| song | object | Song title |\n",
    "| artists | object | Name of artist(s) |\n",
    "| last-week | float64 | Rank of the song on last week the it was ranked |\n",
    "| peak-rank | int64 | Highest rank achieved by the song |\n",
    "| weeks-on-board | int64 | Number of weeks on the board |"
   ]
  },
  {
   "cell_type": "markdown",
   "metadata": {},
   "source": [
    "## Spotify Dataset\n",
    "\n",
    "| Column Name | Data Type | Description |\n",
    "| --- | --- | --- |\n",
    "| number | int64 | Arbitrary number assigned by dataset owner |\n",
    "| track_id | object | Spotify ID for the song |\n",
    "| artists | object | Name of artist(s) |\n",
    "| album_name | object | Name of the album the song was on |\n",
    "| song | object | Song title |\n",
    "| popularity | int64 | Popularity of the track based on the algorithm | \n",
    "| duration_ms | int64 | Song length in milliseconds |\n",
    "| explicit | bool | Whether the song was explicit or not |\n",
    "| danceability | float64 | How danceable the song was |\n",
    "| energy | float64 | How energetic the song was |\n",
    "| key | int64 | The key the song is in. 0 = C, goes up half step for each number in order |\n",
    "| loudness | float64 | Overall loudness of the song in decibels |\n",
    "| mode | int64 | If the song was major or minor | \n",
    "| speechiness | float64 | How much speech/singing there was |\n",
    "| acousticness | float64 | How acoustic the track was |\n",
    "| instrumentalness | float64 | Whether the track has vocals or not |\n",
    "| liveness | float64 | If there was an audience or not in the recording |\n",
    "| valence | flaot64 | Emotionality of the song |\n",
    "| tempo | float64 | Tempo of the song based on the beats per minute (BPM) |\n",
    "| time_signature | int64 | The estimated time signature of the music |\n",
    "| track_genre | object | Genre of the song |"
   ]
  },
  {
   "cell_type": "markdown",
   "metadata": {},
   "source": [
    "## Hit Songs Data\n",
    "\n",
    "| Column Name | Data Type | Description |\n",
    "| --- | --- | --- |\n",
    "| date | object | Date the song charted |\n",
    "| rank | int64 | What the song ranked on the date |\n",
    "| song | object | Song title |\n",
    "| artists | object | Name of artist(s) |\n",
    "| peak-rank | int64 | Highest rank achieved by the song |\n",
    "| weeks-on-board | int64 | Number of weeks on the board |\n",
    "| album_name | object | Name of the album the song was on |\n",
    "| danceability | float64 | How danceable the song was |\n",
    "| energy | float64 | How energetic the song was |\n",
    "| key | int64 | The key the song is in. 0 = C, goes up half step for each number in order |\n",
    "| speechiness | float64 | How much speech/singing there was |\n",
    "| acousticness | float64 | How acoustic the track was |\n",
    "| liveness | float64 | If there was an audience or not in the recording |\n",
    "| valence | float64 | Emotionality of the song |\n",
    "| tempo | float64 | Tempo of the song based on the beats per minute (BPM) |\n",
    "| track_genre | object | Genre of the song |"
   ]
  }
 ],
 "metadata": {
  "language_info": {
   "name": "python"
  }
 },
 "nbformat": 4,
 "nbformat_minor": 2
}
