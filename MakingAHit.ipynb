{
 "cells": [
  {
   "cell_type": "code",
   "execution_count": 59,
   "metadata": {},
   "outputs": [],
   "source": [
    "import pandas as pd"
   ]
  },
  {
   "cell_type": "markdown",
   "metadata": {},
   "source": [
    "# First, let's import the code and clean the code.\n",
    "\n",
    "## I'll take you through step by step. To start, let's import it!"
   ]
  },
  {
   "cell_type": "code",
   "execution_count": 60,
   "metadata": {},
   "outputs": [],
   "source": [
    "Billboard_Charts = pd.read_csv('BillboardCharts.csv')\n",
    "\n",
    "Spotify_Data = pd.read_csv('SpotifyTracks.csv')"
   ]
  },
  {
   "cell_type": "markdown",
   "metadata": {},
   "source": [
    "### Let's do a quick check to make sure we properly sourced the data:"
   ]
  },
  {
   "cell_type": "code",
   "execution_count": 61,
   "metadata": {},
   "outputs": [
    {
     "data": {
      "text/html": [
       "<div>\n",
       "<style scoped>\n",
       "    .dataframe tbody tr th:only-of-type {\n",
       "        vertical-align: middle;\n",
       "    }\n",
       "\n",
       "    .dataframe tbody tr th {\n",
       "        vertical-align: top;\n",
       "    }\n",
       "\n",
       "    .dataframe thead th {\n",
       "        text-align: right;\n",
       "    }\n",
       "</style>\n",
       "<table border=\"1\" class=\"dataframe\">\n",
       "  <thead>\n",
       "    <tr style=\"text-align: right;\">\n",
       "      <th></th>\n",
       "      <th>date</th>\n",
       "      <th>rank</th>\n",
       "      <th>song</th>\n",
       "      <th>artists</th>\n",
       "      <th>last-week</th>\n",
       "      <th>peak-rank</th>\n",
       "      <th>weeks-on-board</th>\n",
       "    </tr>\n",
       "  </thead>\n",
       "  <tbody>\n",
       "    <tr>\n",
       "      <th>0</th>\n",
       "      <td>2021-11-06</td>\n",
       "      <td>1</td>\n",
       "      <td>Easy On Me</td>\n",
       "      <td>Adele</td>\n",
       "      <td>1.0</td>\n",
       "      <td>1</td>\n",
       "      <td>3</td>\n",
       "    </tr>\n",
       "    <tr>\n",
       "      <th>1</th>\n",
       "      <td>2021-11-06</td>\n",
       "      <td>2</td>\n",
       "      <td>Stay</td>\n",
       "      <td>The Kid LAROI &amp; Justin Bieber</td>\n",
       "      <td>2.0</td>\n",
       "      <td>1</td>\n",
       "      <td>16</td>\n",
       "    </tr>\n",
       "    <tr>\n",
       "      <th>2</th>\n",
       "      <td>2021-11-06</td>\n",
       "      <td>3</td>\n",
       "      <td>Industry Baby</td>\n",
       "      <td>Lil Nas X &amp; Jack Harlow</td>\n",
       "      <td>3.0</td>\n",
       "      <td>1</td>\n",
       "      <td>14</td>\n",
       "    </tr>\n",
       "    <tr>\n",
       "      <th>3</th>\n",
       "      <td>2021-11-06</td>\n",
       "      <td>4</td>\n",
       "      <td>Fancy Like</td>\n",
       "      <td>Walker Hayes</td>\n",
       "      <td>4.0</td>\n",
       "      <td>3</td>\n",
       "      <td>19</td>\n",
       "    </tr>\n",
       "    <tr>\n",
       "      <th>4</th>\n",
       "      <td>2021-11-06</td>\n",
       "      <td>5</td>\n",
       "      <td>Bad Habits</td>\n",
       "      <td>Ed Sheeran</td>\n",
       "      <td>5.0</td>\n",
       "      <td>2</td>\n",
       "      <td>18</td>\n",
       "    </tr>\n",
       "  </tbody>\n",
       "</table>\n",
       "</div>"
      ],
      "text/plain": [
       "         date  rank           song                        artists  last-week  \\\n",
       "0  2021-11-06     1     Easy On Me                          Adele        1.0   \n",
       "1  2021-11-06     2           Stay  The Kid LAROI & Justin Bieber        2.0   \n",
       "2  2021-11-06     3  Industry Baby        Lil Nas X & Jack Harlow        3.0   \n",
       "3  2021-11-06     4     Fancy Like                   Walker Hayes        4.0   \n",
       "4  2021-11-06     5     Bad Habits                     Ed Sheeran        5.0   \n",
       "\n",
       "   peak-rank  weeks-on-board  \n",
       "0          1               3  \n",
       "1          1              16  \n",
       "2          1              14  \n",
       "3          3              19  \n",
       "4          2              18  "
      ]
     },
     "execution_count": 61,
     "metadata": {},
     "output_type": "execute_result"
    }
   ],
   "source": [
    "Billboard_Charts.head()"
   ]
  },
  {
   "cell_type": "code",
   "execution_count": 62,
   "metadata": {},
   "outputs": [
    {
     "data": {
      "text/html": [
       "<div>\n",
       "<style scoped>\n",
       "    .dataframe tbody tr th:only-of-type {\n",
       "        vertical-align: middle;\n",
       "    }\n",
       "\n",
       "    .dataframe tbody tr th {\n",
       "        vertical-align: top;\n",
       "    }\n",
       "\n",
       "    .dataframe thead th {\n",
       "        text-align: right;\n",
       "    }\n",
       "</style>\n",
       "<table border=\"1\" class=\"dataframe\">\n",
       "  <thead>\n",
       "    <tr style=\"text-align: right;\">\n",
       "      <th></th>\n",
       "      <th>number</th>\n",
       "      <th>track_id</th>\n",
       "      <th>artists</th>\n",
       "      <th>album_name</th>\n",
       "      <th>song</th>\n",
       "      <th>popularity</th>\n",
       "      <th>duration_ms</th>\n",
       "      <th>explicit</th>\n",
       "      <th>danceability</th>\n",
       "      <th>energy</th>\n",
       "      <th>...</th>\n",
       "      <th>loudness</th>\n",
       "      <th>mode</th>\n",
       "      <th>speechiness</th>\n",
       "      <th>acousticness</th>\n",
       "      <th>instrumentalness</th>\n",
       "      <th>liveness</th>\n",
       "      <th>valence</th>\n",
       "      <th>tempo</th>\n",
       "      <th>time_signature</th>\n",
       "      <th>track_genre</th>\n",
       "    </tr>\n",
       "  </thead>\n",
       "  <tbody>\n",
       "    <tr>\n",
       "      <th>0</th>\n",
       "      <td>0</td>\n",
       "      <td>5SuOikwiRyPMVoIQDJUgSV</td>\n",
       "      <td>Gen Hoshino</td>\n",
       "      <td>Comedy</td>\n",
       "      <td>Comedy</td>\n",
       "      <td>73</td>\n",
       "      <td>230666</td>\n",
       "      <td>False</td>\n",
       "      <td>0.676</td>\n",
       "      <td>0.4610</td>\n",
       "      <td>...</td>\n",
       "      <td>-6.746</td>\n",
       "      <td>0</td>\n",
       "      <td>0.1430</td>\n",
       "      <td>0.0322</td>\n",
       "      <td>0.000001</td>\n",
       "      <td>0.3580</td>\n",
       "      <td>0.715</td>\n",
       "      <td>87.917</td>\n",
       "      <td>4</td>\n",
       "      <td>acoustic</td>\n",
       "    </tr>\n",
       "    <tr>\n",
       "      <th>1</th>\n",
       "      <td>1</td>\n",
       "      <td>4qPNDBW1i3p13qLCt0Ki3A</td>\n",
       "      <td>Ben Woodward</td>\n",
       "      <td>Ghost (Acoustic)</td>\n",
       "      <td>Ghost - Acoustic</td>\n",
       "      <td>55</td>\n",
       "      <td>149610</td>\n",
       "      <td>False</td>\n",
       "      <td>0.420</td>\n",
       "      <td>0.1660</td>\n",
       "      <td>...</td>\n",
       "      <td>-17.235</td>\n",
       "      <td>1</td>\n",
       "      <td>0.0763</td>\n",
       "      <td>0.9240</td>\n",
       "      <td>0.000006</td>\n",
       "      <td>0.1010</td>\n",
       "      <td>0.267</td>\n",
       "      <td>77.489</td>\n",
       "      <td>4</td>\n",
       "      <td>acoustic</td>\n",
       "    </tr>\n",
       "    <tr>\n",
       "      <th>2</th>\n",
       "      <td>2</td>\n",
       "      <td>1iJBSr7s7jYXzM8EGcbK5b</td>\n",
       "      <td>Ingrid Michaelson;ZAYN</td>\n",
       "      <td>To Begin Again</td>\n",
       "      <td>To Begin Again</td>\n",
       "      <td>57</td>\n",
       "      <td>210826</td>\n",
       "      <td>False</td>\n",
       "      <td>0.438</td>\n",
       "      <td>0.3590</td>\n",
       "      <td>...</td>\n",
       "      <td>-9.734</td>\n",
       "      <td>1</td>\n",
       "      <td>0.0557</td>\n",
       "      <td>0.2100</td>\n",
       "      <td>0.000000</td>\n",
       "      <td>0.1170</td>\n",
       "      <td>0.120</td>\n",
       "      <td>76.332</td>\n",
       "      <td>4</td>\n",
       "      <td>acoustic</td>\n",
       "    </tr>\n",
       "    <tr>\n",
       "      <th>3</th>\n",
       "      <td>3</td>\n",
       "      <td>6lfxq3CG4xtTiEg7opyCyx</td>\n",
       "      <td>Kina Grannis</td>\n",
       "      <td>Crazy Rich Asians (Original Motion Picture Sou...</td>\n",
       "      <td>Can't Help Falling In Love</td>\n",
       "      <td>71</td>\n",
       "      <td>201933</td>\n",
       "      <td>False</td>\n",
       "      <td>0.266</td>\n",
       "      <td>0.0596</td>\n",
       "      <td>...</td>\n",
       "      <td>-18.515</td>\n",
       "      <td>1</td>\n",
       "      <td>0.0363</td>\n",
       "      <td>0.9050</td>\n",
       "      <td>0.000071</td>\n",
       "      <td>0.1320</td>\n",
       "      <td>0.143</td>\n",
       "      <td>181.740</td>\n",
       "      <td>3</td>\n",
       "      <td>acoustic</td>\n",
       "    </tr>\n",
       "    <tr>\n",
       "      <th>4</th>\n",
       "      <td>4</td>\n",
       "      <td>5vjLSffimiIP26QG5WcN2K</td>\n",
       "      <td>Chord Overstreet</td>\n",
       "      <td>Hold On</td>\n",
       "      <td>Hold On</td>\n",
       "      <td>82</td>\n",
       "      <td>198853</td>\n",
       "      <td>False</td>\n",
       "      <td>0.618</td>\n",
       "      <td>0.4430</td>\n",
       "      <td>...</td>\n",
       "      <td>-9.681</td>\n",
       "      <td>1</td>\n",
       "      <td>0.0526</td>\n",
       "      <td>0.4690</td>\n",
       "      <td>0.000000</td>\n",
       "      <td>0.0829</td>\n",
       "      <td>0.167</td>\n",
       "      <td>119.949</td>\n",
       "      <td>4</td>\n",
       "      <td>acoustic</td>\n",
       "    </tr>\n",
       "  </tbody>\n",
       "</table>\n",
       "<p>5 rows × 21 columns</p>\n",
       "</div>"
      ],
      "text/plain": [
       "   number                track_id                 artists  \\\n",
       "0       0  5SuOikwiRyPMVoIQDJUgSV             Gen Hoshino   \n",
       "1       1  4qPNDBW1i3p13qLCt0Ki3A            Ben Woodward   \n",
       "2       2  1iJBSr7s7jYXzM8EGcbK5b  Ingrid Michaelson;ZAYN   \n",
       "3       3  6lfxq3CG4xtTiEg7opyCyx            Kina Grannis   \n",
       "4       4  5vjLSffimiIP26QG5WcN2K        Chord Overstreet   \n",
       "\n",
       "                                          album_name  \\\n",
       "0                                             Comedy   \n",
       "1                                   Ghost (Acoustic)   \n",
       "2                                     To Begin Again   \n",
       "3  Crazy Rich Asians (Original Motion Picture Sou...   \n",
       "4                                            Hold On   \n",
       "\n",
       "                         song  popularity  duration_ms  explicit  \\\n",
       "0                      Comedy          73       230666     False   \n",
       "1            Ghost - Acoustic          55       149610     False   \n",
       "2              To Begin Again          57       210826     False   \n",
       "3  Can't Help Falling In Love          71       201933     False   \n",
       "4                     Hold On          82       198853     False   \n",
       "\n",
       "   danceability  energy  ...  loudness  mode  speechiness  acousticness  \\\n",
       "0         0.676  0.4610  ...    -6.746     0       0.1430        0.0322   \n",
       "1         0.420  0.1660  ...   -17.235     1       0.0763        0.9240   \n",
       "2         0.438  0.3590  ...    -9.734     1       0.0557        0.2100   \n",
       "3         0.266  0.0596  ...   -18.515     1       0.0363        0.9050   \n",
       "4         0.618  0.4430  ...    -9.681     1       0.0526        0.4690   \n",
       "\n",
       "   instrumentalness  liveness  valence    tempo  time_signature  track_genre  \n",
       "0          0.000001    0.3580    0.715   87.917               4     acoustic  \n",
       "1          0.000006    0.1010    0.267   77.489               4     acoustic  \n",
       "2          0.000000    0.1170    0.120   76.332               4     acoustic  \n",
       "3          0.000071    0.1320    0.143  181.740               3     acoustic  \n",
       "4          0.000000    0.0829    0.167  119.949               4     acoustic  \n",
       "\n",
       "[5 rows x 21 columns]"
      ]
     },
     "execution_count": 62,
     "metadata": {},
     "output_type": "execute_result"
    }
   ],
   "source": [
    "Spotify_Data.head()"
   ]
  },
  {
   "cell_type": "markdown",
   "metadata": {},
   "source": [
    "### Next, let's check to see if either of our data sets have any missing data."
   ]
  },
  {
   "cell_type": "code",
   "execution_count": 63,
   "metadata": {},
   "outputs": [
    {
     "name": "stdout",
     "output_type": "stream",
     "text": [
      "date                  0\n",
      "rank                  0\n",
      "song                  0\n",
      "artists               0\n",
      "last-week         32312\n",
      "peak-rank             0\n",
      "weeks-on-board        0\n",
      "dtype: int64\n"
     ]
    }
   ],
   "source": [
    "print(Billboard_Charts.isnull().sum())"
   ]
  },
  {
   "cell_type": "code",
   "execution_count": 64,
   "metadata": {},
   "outputs": [
    {
     "name": "stdout",
     "output_type": "stream",
     "text": [
      "number              0\n",
      "track_id            0\n",
      "artists             1\n",
      "album_name          1\n",
      "song                1\n",
      "popularity          0\n",
      "duration_ms         0\n",
      "explicit            0\n",
      "danceability        0\n",
      "energy              0\n",
      "key                 0\n",
      "loudness            0\n",
      "mode                0\n",
      "speechiness         0\n",
      "acousticness        0\n",
      "instrumentalness    0\n",
      "liveness            0\n",
      "valence             0\n",
      "tempo               0\n",
      "time_signature      0\n",
      "track_genre         0\n",
      "dtype: int64\n"
     ]
    }
   ],
   "source": [
    "print(Spotify_Data.isnull().sum())"
   ]
  },
  {
   "cell_type": "markdown",
   "metadata": {},
   "source": [
    "### Okay! So, now we see that there are some missing values in the Spotify_Data CSV. Let's drop those!\n",
    "Yes, there seems to be some missing values from the Billboard Chart, as well, but they are all in a column I plan to drop, anyway!"
   ]
  },
  {
   "cell_type": "code",
   "execution_count": 65,
   "metadata": {},
   "outputs": [],
   "source": [
    "Spotify_Data_Cleaned = Spotify_Data.dropna()"
   ]
  },
  {
   "cell_type": "markdown",
   "metadata": {},
   "source": [
    "### Let's make sure it dropped properly:"
   ]
  },
  {
   "cell_type": "code",
   "execution_count": 66,
   "metadata": {},
   "outputs": [
    {
     "name": "stdout",
     "output_type": "stream",
     "text": [
      "number              0\n",
      "track_id            0\n",
      "artists             0\n",
      "album_name          0\n",
      "song                0\n",
      "popularity          0\n",
      "duration_ms         0\n",
      "explicit            0\n",
      "danceability        0\n",
      "energy              0\n",
      "key                 0\n",
      "loudness            0\n",
      "mode                0\n",
      "speechiness         0\n",
      "acousticness        0\n",
      "instrumentalness    0\n",
      "liveness            0\n",
      "valence             0\n",
      "tempo               0\n",
      "time_signature      0\n",
      "track_genre         0\n",
      "dtype: int64\n"
     ]
    }
   ],
   "source": [
    "print(Spotify_Data_Cleaned.isnull().sum())"
   ]
  },
  {
   "cell_type": "markdown",
   "metadata": {},
   "source": [
    "### Because both of these data sets have so many songs listed in them, let's make sure there's no duplicate songs that have snuck their way in to either data set, just in case."
   ]
  },
  {
   "cell_type": "code",
   "execution_count": 67,
   "metadata": {},
   "outputs": [
    {
     "name": "stdout",
     "output_type": "stream",
     "text": [
      "In the Billboard data, there are 0 duplicate rows.\n",
      "In the Spotify Data, there are 0 duplicate rows.\n"
     ]
    }
   ],
   "source": [
    "billboard_duplicates = Billboard_Charts.duplicated()\n",
    "\n",
    "spotify_duplicates = Spotify_Data_Cleaned.duplicated()\n",
    "\n",
    "print('In the Billboard data, there are ' + str(billboard_duplicates.sum()) + ' duplicate rows.')\n",
    "\n",
    "print('In the Spotify Data, there are ' + str(spotify_duplicates.sum()) + ' duplicate rows.')"
   ]
  },
  {
   "cell_type": "markdown",
   "metadata": {},
   "source": [
    "### Great! Now, here is where we drop some columns from the cleaned data. \n",
    "\n",
    "There are a lot of columns, and we don't need them all to get the information we are seeking!\n",
    "\n"
   ]
  },
  {
   "cell_type": "code",
   "execution_count": 68,
   "metadata": {},
   "outputs": [],
   "source": [
    "Billboard_Cleaned = Billboard_Charts.drop(columns=['last-week'])\n",
    "\n",
    "Spotify_Cleaned = Spotify_Data_Cleaned.drop(columns=['duration_ms', 'popularity', 'explicit', 'track_id', 'number', 'instrumentalness', 'time_signature', 'mode', 'loudness'])"
   ]
  },
  {
   "cell_type": "markdown",
   "metadata": {},
   "source": [
    "### Let's check to make sure the correct columns are gone!"
   ]
  },
  {
   "cell_type": "code",
   "execution_count": 69,
   "metadata": {},
   "outputs": [
    {
     "data": {
      "text/html": [
       "<div>\n",
       "<style scoped>\n",
       "    .dataframe tbody tr th:only-of-type {\n",
       "        vertical-align: middle;\n",
       "    }\n",
       "\n",
       "    .dataframe tbody tr th {\n",
       "        vertical-align: top;\n",
       "    }\n",
       "\n",
       "    .dataframe thead th {\n",
       "        text-align: right;\n",
       "    }\n",
       "</style>\n",
       "<table border=\"1\" class=\"dataframe\">\n",
       "  <thead>\n",
       "    <tr style=\"text-align: right;\">\n",
       "      <th></th>\n",
       "      <th>date</th>\n",
       "      <th>rank</th>\n",
       "      <th>song</th>\n",
       "      <th>artists</th>\n",
       "      <th>peak-rank</th>\n",
       "      <th>weeks-on-board</th>\n",
       "    </tr>\n",
       "  </thead>\n",
       "  <tbody>\n",
       "    <tr>\n",
       "      <th>0</th>\n",
       "      <td>2021-11-06</td>\n",
       "      <td>1</td>\n",
       "      <td>Easy On Me</td>\n",
       "      <td>Adele</td>\n",
       "      <td>1</td>\n",
       "      <td>3</td>\n",
       "    </tr>\n",
       "    <tr>\n",
       "      <th>1</th>\n",
       "      <td>2021-11-06</td>\n",
       "      <td>2</td>\n",
       "      <td>Stay</td>\n",
       "      <td>The Kid LAROI &amp; Justin Bieber</td>\n",
       "      <td>1</td>\n",
       "      <td>16</td>\n",
       "    </tr>\n",
       "    <tr>\n",
       "      <th>2</th>\n",
       "      <td>2021-11-06</td>\n",
       "      <td>3</td>\n",
       "      <td>Industry Baby</td>\n",
       "      <td>Lil Nas X &amp; Jack Harlow</td>\n",
       "      <td>1</td>\n",
       "      <td>14</td>\n",
       "    </tr>\n",
       "    <tr>\n",
       "      <th>3</th>\n",
       "      <td>2021-11-06</td>\n",
       "      <td>4</td>\n",
       "      <td>Fancy Like</td>\n",
       "      <td>Walker Hayes</td>\n",
       "      <td>3</td>\n",
       "      <td>19</td>\n",
       "    </tr>\n",
       "    <tr>\n",
       "      <th>4</th>\n",
       "      <td>2021-11-06</td>\n",
       "      <td>5</td>\n",
       "      <td>Bad Habits</td>\n",
       "      <td>Ed Sheeran</td>\n",
       "      <td>2</td>\n",
       "      <td>18</td>\n",
       "    </tr>\n",
       "  </tbody>\n",
       "</table>\n",
       "</div>"
      ],
      "text/plain": [
       "         date  rank           song                        artists  peak-rank  \\\n",
       "0  2021-11-06     1     Easy On Me                          Adele          1   \n",
       "1  2021-11-06     2           Stay  The Kid LAROI & Justin Bieber          1   \n",
       "2  2021-11-06     3  Industry Baby        Lil Nas X & Jack Harlow          1   \n",
       "3  2021-11-06     4     Fancy Like                   Walker Hayes          3   \n",
       "4  2021-11-06     5     Bad Habits                     Ed Sheeran          2   \n",
       "\n",
       "   weeks-on-board  \n",
       "0               3  \n",
       "1              16  \n",
       "2              14  \n",
       "3              19  \n",
       "4              18  "
      ]
     },
     "execution_count": 69,
     "metadata": {},
     "output_type": "execute_result"
    }
   ],
   "source": [
    "Billboard_Cleaned.head()"
   ]
  },
  {
   "cell_type": "code",
   "execution_count": 70,
   "metadata": {},
   "outputs": [
    {
     "data": {
      "text/html": [
       "<div>\n",
       "<style scoped>\n",
       "    .dataframe tbody tr th:only-of-type {\n",
       "        vertical-align: middle;\n",
       "    }\n",
       "\n",
       "    .dataframe tbody tr th {\n",
       "        vertical-align: top;\n",
       "    }\n",
       "\n",
       "    .dataframe thead th {\n",
       "        text-align: right;\n",
       "    }\n",
       "</style>\n",
       "<table border=\"1\" class=\"dataframe\">\n",
       "  <thead>\n",
       "    <tr style=\"text-align: right;\">\n",
       "      <th></th>\n",
       "      <th>artists</th>\n",
       "      <th>album_name</th>\n",
       "      <th>song</th>\n",
       "      <th>danceability</th>\n",
       "      <th>energy</th>\n",
       "      <th>key</th>\n",
       "      <th>speechiness</th>\n",
       "      <th>acousticness</th>\n",
       "      <th>liveness</th>\n",
       "      <th>valence</th>\n",
       "      <th>tempo</th>\n",
       "      <th>track_genre</th>\n",
       "    </tr>\n",
       "  </thead>\n",
       "  <tbody>\n",
       "    <tr>\n",
       "      <th>0</th>\n",
       "      <td>Gen Hoshino</td>\n",
       "      <td>Comedy</td>\n",
       "      <td>Comedy</td>\n",
       "      <td>0.676</td>\n",
       "      <td>0.4610</td>\n",
       "      <td>1</td>\n",
       "      <td>0.1430</td>\n",
       "      <td>0.0322</td>\n",
       "      <td>0.3580</td>\n",
       "      <td>0.715</td>\n",
       "      <td>87.917</td>\n",
       "      <td>acoustic</td>\n",
       "    </tr>\n",
       "    <tr>\n",
       "      <th>1</th>\n",
       "      <td>Ben Woodward</td>\n",
       "      <td>Ghost (Acoustic)</td>\n",
       "      <td>Ghost - Acoustic</td>\n",
       "      <td>0.420</td>\n",
       "      <td>0.1660</td>\n",
       "      <td>1</td>\n",
       "      <td>0.0763</td>\n",
       "      <td>0.9240</td>\n",
       "      <td>0.1010</td>\n",
       "      <td>0.267</td>\n",
       "      <td>77.489</td>\n",
       "      <td>acoustic</td>\n",
       "    </tr>\n",
       "    <tr>\n",
       "      <th>2</th>\n",
       "      <td>Ingrid Michaelson;ZAYN</td>\n",
       "      <td>To Begin Again</td>\n",
       "      <td>To Begin Again</td>\n",
       "      <td>0.438</td>\n",
       "      <td>0.3590</td>\n",
       "      <td>0</td>\n",
       "      <td>0.0557</td>\n",
       "      <td>0.2100</td>\n",
       "      <td>0.1170</td>\n",
       "      <td>0.120</td>\n",
       "      <td>76.332</td>\n",
       "      <td>acoustic</td>\n",
       "    </tr>\n",
       "    <tr>\n",
       "      <th>3</th>\n",
       "      <td>Kina Grannis</td>\n",
       "      <td>Crazy Rich Asians (Original Motion Picture Sou...</td>\n",
       "      <td>Can't Help Falling In Love</td>\n",
       "      <td>0.266</td>\n",
       "      <td>0.0596</td>\n",
       "      <td>0</td>\n",
       "      <td>0.0363</td>\n",
       "      <td>0.9050</td>\n",
       "      <td>0.1320</td>\n",
       "      <td>0.143</td>\n",
       "      <td>181.740</td>\n",
       "      <td>acoustic</td>\n",
       "    </tr>\n",
       "    <tr>\n",
       "      <th>4</th>\n",
       "      <td>Chord Overstreet</td>\n",
       "      <td>Hold On</td>\n",
       "      <td>Hold On</td>\n",
       "      <td>0.618</td>\n",
       "      <td>0.4430</td>\n",
       "      <td>2</td>\n",
       "      <td>0.0526</td>\n",
       "      <td>0.4690</td>\n",
       "      <td>0.0829</td>\n",
       "      <td>0.167</td>\n",
       "      <td>119.949</td>\n",
       "      <td>acoustic</td>\n",
       "    </tr>\n",
       "  </tbody>\n",
       "</table>\n",
       "</div>"
      ],
      "text/plain": [
       "                  artists                                         album_name  \\\n",
       "0             Gen Hoshino                                             Comedy   \n",
       "1            Ben Woodward                                   Ghost (Acoustic)   \n",
       "2  Ingrid Michaelson;ZAYN                                     To Begin Again   \n",
       "3            Kina Grannis  Crazy Rich Asians (Original Motion Picture Sou...   \n",
       "4        Chord Overstreet                                            Hold On   \n",
       "\n",
       "                         song  danceability  energy  key  speechiness  \\\n",
       "0                      Comedy         0.676  0.4610    1       0.1430   \n",
       "1            Ghost - Acoustic         0.420  0.1660    1       0.0763   \n",
       "2              To Begin Again         0.438  0.3590    0       0.0557   \n",
       "3  Can't Help Falling In Love         0.266  0.0596    0       0.0363   \n",
       "4                     Hold On         0.618  0.4430    2       0.0526   \n",
       "\n",
       "   acousticness  liveness  valence    tempo track_genre  \n",
       "0        0.0322    0.3580    0.715   87.917    acoustic  \n",
       "1        0.9240    0.1010    0.267   77.489    acoustic  \n",
       "2        0.2100    0.1170    0.120   76.332    acoustic  \n",
       "3        0.9050    0.1320    0.143  181.740    acoustic  \n",
       "4        0.4690    0.0829    0.167  119.949    acoustic  "
      ]
     },
     "execution_count": 70,
     "metadata": {},
     "output_type": "execute_result"
    }
   ],
   "source": [
    "Spotify_Cleaned.head()"
   ]
  },
  {
   "cell_type": "markdown",
   "metadata": {},
   "source": [
    "## Awesome! \n",
    "### Now, we're going to combine the datasets."
   ]
  },
  {
   "cell_type": "code",
   "execution_count": 71,
   "metadata": {},
   "outputs": [],
   "source": [
    "HitSongs = pd.merge(Billboard_Cleaned, Spotify_Cleaned, on=['song', 'artists'])"
   ]
  },
  {
   "cell_type": "markdown",
   "metadata": {},
   "source": [
    "### Let's check to see if it combined correctly!"
   ]
  },
  {
   "cell_type": "code",
   "execution_count": 72,
   "metadata": {},
   "outputs": [
    {
     "data": {
      "text/html": [
       "<div>\n",
       "<style scoped>\n",
       "    .dataframe tbody tr th:only-of-type {\n",
       "        vertical-align: middle;\n",
       "    }\n",
       "\n",
       "    .dataframe tbody tr th {\n",
       "        vertical-align: top;\n",
       "    }\n",
       "\n",
       "    .dataframe thead th {\n",
       "        text-align: right;\n",
       "    }\n",
       "</style>\n",
       "<table border=\"1\" class=\"dataframe\">\n",
       "  <thead>\n",
       "    <tr style=\"text-align: right;\">\n",
       "      <th></th>\n",
       "      <th>date</th>\n",
       "      <th>rank</th>\n",
       "      <th>song</th>\n",
       "      <th>artists</th>\n",
       "      <th>peak-rank</th>\n",
       "      <th>weeks-on-board</th>\n",
       "      <th>album_name</th>\n",
       "      <th>danceability</th>\n",
       "      <th>energy</th>\n",
       "      <th>key</th>\n",
       "      <th>speechiness</th>\n",
       "      <th>acousticness</th>\n",
       "      <th>liveness</th>\n",
       "      <th>valence</th>\n",
       "      <th>tempo</th>\n",
       "      <th>track_genre</th>\n",
       "    </tr>\n",
       "  </thead>\n",
       "  <tbody>\n",
       "    <tr>\n",
       "      <th>0</th>\n",
       "      <td>2021-11-06</td>\n",
       "      <td>1</td>\n",
       "      <td>Easy On Me</td>\n",
       "      <td>Adele</td>\n",
       "      <td>1</td>\n",
       "      <td>3</td>\n",
       "      <td>Easy On Me</td>\n",
       "      <td>0.604</td>\n",
       "      <td>0.366</td>\n",
       "      <td>5</td>\n",
       "      <td>0.0282</td>\n",
       "      <td>0.578</td>\n",
       "      <td>0.133</td>\n",
       "      <td>0.130</td>\n",
       "      <td>141.981</td>\n",
       "      <td>british</td>\n",
       "    </tr>\n",
       "    <tr>\n",
       "      <th>1</th>\n",
       "      <td>2021-11-06</td>\n",
       "      <td>1</td>\n",
       "      <td>Easy On Me</td>\n",
       "      <td>Adele</td>\n",
       "      <td>1</td>\n",
       "      <td>3</td>\n",
       "      <td>30</td>\n",
       "      <td>0.604</td>\n",
       "      <td>0.366</td>\n",
       "      <td>5</td>\n",
       "      <td>0.0282</td>\n",
       "      <td>0.578</td>\n",
       "      <td>0.133</td>\n",
       "      <td>0.130</td>\n",
       "      <td>141.981</td>\n",
       "      <td>british</td>\n",
       "    </tr>\n",
       "    <tr>\n",
       "      <th>2</th>\n",
       "      <td>2021-11-06</td>\n",
       "      <td>1</td>\n",
       "      <td>Easy On Me</td>\n",
       "      <td>Adele</td>\n",
       "      <td>1</td>\n",
       "      <td>3</td>\n",
       "      <td>Easy On Me</td>\n",
       "      <td>0.604</td>\n",
       "      <td>0.366</td>\n",
       "      <td>5</td>\n",
       "      <td>0.0282</td>\n",
       "      <td>0.578</td>\n",
       "      <td>0.133</td>\n",
       "      <td>0.130</td>\n",
       "      <td>141.981</td>\n",
       "      <td>soul</td>\n",
       "    </tr>\n",
       "    <tr>\n",
       "      <th>3</th>\n",
       "      <td>2021-11-06</td>\n",
       "      <td>1</td>\n",
       "      <td>Easy On Me</td>\n",
       "      <td>Adele</td>\n",
       "      <td>1</td>\n",
       "      <td>3</td>\n",
       "      <td>30</td>\n",
       "      <td>0.604</td>\n",
       "      <td>0.366</td>\n",
       "      <td>5</td>\n",
       "      <td>0.0282</td>\n",
       "      <td>0.578</td>\n",
       "      <td>0.133</td>\n",
       "      <td>0.130</td>\n",
       "      <td>141.981</td>\n",
       "      <td>soul</td>\n",
       "    </tr>\n",
       "    <tr>\n",
       "      <th>4</th>\n",
       "      <td>2021-11-06</td>\n",
       "      <td>4</td>\n",
       "      <td>Fancy Like</td>\n",
       "      <td>Walker Hayes</td>\n",
       "      <td>3</td>\n",
       "      <td>19</td>\n",
       "      <td>Country Stuff The Album</td>\n",
       "      <td>0.647</td>\n",
       "      <td>0.765</td>\n",
       "      <td>1</td>\n",
       "      <td>0.0600</td>\n",
       "      <td>0.111</td>\n",
       "      <td>0.315</td>\n",
       "      <td>0.855</td>\n",
       "      <td>79.994</td>\n",
       "      <td>country</td>\n",
       "    </tr>\n",
       "  </tbody>\n",
       "</table>\n",
       "</div>"
      ],
      "text/plain": [
       "         date  rank        song       artists  peak-rank  weeks-on-board  \\\n",
       "0  2021-11-06     1  Easy On Me         Adele          1               3   \n",
       "1  2021-11-06     1  Easy On Me         Adele          1               3   \n",
       "2  2021-11-06     1  Easy On Me         Adele          1               3   \n",
       "3  2021-11-06     1  Easy On Me         Adele          1               3   \n",
       "4  2021-11-06     4  Fancy Like  Walker Hayes          3              19   \n",
       "\n",
       "                album_name  danceability  energy  key  speechiness  \\\n",
       "0               Easy On Me         0.604   0.366    5       0.0282   \n",
       "1                       30         0.604   0.366    5       0.0282   \n",
       "2               Easy On Me         0.604   0.366    5       0.0282   \n",
       "3                       30         0.604   0.366    5       0.0282   \n",
       "4  Country Stuff The Album         0.647   0.765    1       0.0600   \n",
       "\n",
       "   acousticness  liveness  valence    tempo track_genre  \n",
       "0         0.578     0.133    0.130  141.981     british  \n",
       "1         0.578     0.133    0.130  141.981     british  \n",
       "2         0.578     0.133    0.130  141.981        soul  \n",
       "3         0.578     0.133    0.130  141.981        soul  \n",
       "4         0.111     0.315    0.855   79.994     country  "
      ]
     },
     "execution_count": 72,
     "metadata": {},
     "output_type": "execute_result"
    }
   ],
   "source": [
    "HitSongs.head()"
   ]
  },
  {
   "cell_type": "markdown",
   "metadata": {},
   "source": [
    "### Woah! That is a lot of repeats. Let's try cleaning up this combined dataset."
   ]
  },
  {
   "cell_type": "code",
   "execution_count": 73,
   "metadata": {},
   "outputs": [],
   "source": [
    "HitSongs = HitSongs.dropna()\n",
    "\n",
    "HitSongs = HitSongs.drop_duplicates(subset=['song', 'artists'])"
   ]
  },
  {
   "cell_type": "code",
   "execution_count": 74,
   "metadata": {},
   "outputs": [
    {
     "data": {
      "text/html": [
       "<div>\n",
       "<style scoped>\n",
       "    .dataframe tbody tr th:only-of-type {\n",
       "        vertical-align: middle;\n",
       "    }\n",
       "\n",
       "    .dataframe tbody tr th {\n",
       "        vertical-align: top;\n",
       "    }\n",
       "\n",
       "    .dataframe thead th {\n",
       "        text-align: right;\n",
       "    }\n",
       "</style>\n",
       "<table border=\"1\" class=\"dataframe\">\n",
       "  <thead>\n",
       "    <tr style=\"text-align: right;\">\n",
       "      <th></th>\n",
       "      <th>date</th>\n",
       "      <th>rank</th>\n",
       "      <th>song</th>\n",
       "      <th>artists</th>\n",
       "      <th>peak-rank</th>\n",
       "      <th>weeks-on-board</th>\n",
       "      <th>album_name</th>\n",
       "      <th>danceability</th>\n",
       "      <th>energy</th>\n",
       "      <th>key</th>\n",
       "      <th>speechiness</th>\n",
       "      <th>acousticness</th>\n",
       "      <th>liveness</th>\n",
       "      <th>valence</th>\n",
       "      <th>tempo</th>\n",
       "      <th>track_genre</th>\n",
       "    </tr>\n",
       "  </thead>\n",
       "  <tbody>\n",
       "    <tr>\n",
       "      <th>0</th>\n",
       "      <td>2021-11-06</td>\n",
       "      <td>1</td>\n",
       "      <td>Easy On Me</td>\n",
       "      <td>Adele</td>\n",
       "      <td>1</td>\n",
       "      <td>3</td>\n",
       "      <td>Easy On Me</td>\n",
       "      <td>0.604</td>\n",
       "      <td>0.366</td>\n",
       "      <td>5</td>\n",
       "      <td>0.0282</td>\n",
       "      <td>0.5780</td>\n",
       "      <td>0.1330</td>\n",
       "      <td>0.130</td>\n",
       "      <td>141.981</td>\n",
       "      <td>british</td>\n",
       "    </tr>\n",
       "    <tr>\n",
       "      <th>4</th>\n",
       "      <td>2021-11-06</td>\n",
       "      <td>4</td>\n",
       "      <td>Fancy Like</td>\n",
       "      <td>Walker Hayes</td>\n",
       "      <td>3</td>\n",
       "      <td>19</td>\n",
       "      <td>Country Stuff The Album</td>\n",
       "      <td>0.647</td>\n",
       "      <td>0.765</td>\n",
       "      <td>1</td>\n",
       "      <td>0.0600</td>\n",
       "      <td>0.1110</td>\n",
       "      <td>0.3150</td>\n",
       "      <td>0.855</td>\n",
       "      <td>79.994</td>\n",
       "      <td>country</td>\n",
       "    </tr>\n",
       "    <tr>\n",
       "      <th>5</th>\n",
       "      <td>2021-11-06</td>\n",
       "      <td>5</td>\n",
       "      <td>Bad Habits</td>\n",
       "      <td>Ed Sheeran</td>\n",
       "      <td>2</td>\n",
       "      <td>18</td>\n",
       "      <td>=</td>\n",
       "      <td>0.807</td>\n",
       "      <td>0.893</td>\n",
       "      <td>11</td>\n",
       "      <td>0.0347</td>\n",
       "      <td>0.0451</td>\n",
       "      <td>0.3660</td>\n",
       "      <td>0.537</td>\n",
       "      <td>126.011</td>\n",
       "      <td>pop</td>\n",
       "    </tr>\n",
       "    <tr>\n",
       "      <th>6</th>\n",
       "      <td>2021-11-06</td>\n",
       "      <td>7</td>\n",
       "      <td>Shivers</td>\n",
       "      <td>Ed Sheeran</td>\n",
       "      <td>7</td>\n",
       "      <td>7</td>\n",
       "      <td>Today's Party Hits</td>\n",
       "      <td>0.788</td>\n",
       "      <td>0.859</td>\n",
       "      <td>2</td>\n",
       "      <td>0.0856</td>\n",
       "      <td>0.2810</td>\n",
       "      <td>0.0424</td>\n",
       "      <td>0.822</td>\n",
       "      <td>141.020</td>\n",
       "      <td>pop</td>\n",
       "    </tr>\n",
       "    <tr>\n",
       "      <th>7</th>\n",
       "      <td>2021-11-06</td>\n",
       "      <td>10</td>\n",
       "      <td>Levitating</td>\n",
       "      <td>Dua Lipa</td>\n",
       "      <td>2</td>\n",
       "      <td>56</td>\n",
       "      <td>Future Nostalgia</td>\n",
       "      <td>0.695</td>\n",
       "      <td>0.884</td>\n",
       "      <td>6</td>\n",
       "      <td>0.0753</td>\n",
       "      <td>0.0561</td>\n",
       "      <td>0.2130</td>\n",
       "      <td>0.914</td>\n",
       "      <td>103.014</td>\n",
       "      <td>dance</td>\n",
       "    </tr>\n",
       "  </tbody>\n",
       "</table>\n",
       "</div>"
      ],
      "text/plain": [
       "         date  rank        song       artists  peak-rank  weeks-on-board  \\\n",
       "0  2021-11-06     1  Easy On Me         Adele          1               3   \n",
       "4  2021-11-06     4  Fancy Like  Walker Hayes          3              19   \n",
       "5  2021-11-06     5  Bad Habits    Ed Sheeran          2              18   \n",
       "6  2021-11-06     7     Shivers    Ed Sheeran          7               7   \n",
       "7  2021-11-06    10  Levitating      Dua Lipa          2              56   \n",
       "\n",
       "                album_name  danceability  energy  key  speechiness  \\\n",
       "0               Easy On Me         0.604   0.366    5       0.0282   \n",
       "4  Country Stuff The Album         0.647   0.765    1       0.0600   \n",
       "5                        =         0.807   0.893   11       0.0347   \n",
       "6       Today's Party Hits         0.788   0.859    2       0.0856   \n",
       "7         Future Nostalgia         0.695   0.884    6       0.0753   \n",
       "\n",
       "   acousticness  liveness  valence    tempo track_genre  \n",
       "0        0.5780    0.1330    0.130  141.981     british  \n",
       "4        0.1110    0.3150    0.855   79.994     country  \n",
       "5        0.0451    0.3660    0.537  126.011         pop  \n",
       "6        0.2810    0.0424    0.822  141.020         pop  \n",
       "7        0.0561    0.2130    0.914  103.014       dance  "
      ]
     },
     "execution_count": 74,
     "metadata": {},
     "output_type": "execute_result"
    }
   ],
   "source": [
    "HitSongs.head()"
   ]
  },
  {
   "cell_type": "markdown",
   "metadata": {},
   "source": [
    "I'm going to turn this data into its' own csv file!"
   ]
  },
  {
   "cell_type": "code",
   "execution_count": 75,
   "metadata": {},
   "outputs": [],
   "source": [
    "HitSongs.to_csv('HitSongs.csv', index = False)"
   ]
  },
  {
   "cell_type": "markdown",
   "metadata": {},
   "source": [
    "## Nice!\n",
    "### Now let's find some information data with this new dataframe! \n",
    "\n",
    "First, I'm interested in finding out what genre is the most popular for these songs! We're going to find this by looking at the mode!\n",
    "\n"
   ]
  },
  {
   "cell_type": "code",
   "execution_count": 76,
   "metadata": {},
   "outputs": [
    {
     "name": "stdout",
     "output_type": "stream",
     "text": [
      "The most popular genre for these songs is grunge.\n"
     ]
    }
   ],
   "source": [
    "genre_mode = HitSongs['track_genre'].mode()\n",
    "print('The most popular genre for these songs is ' + genre_mode[0] + '.')"
   ]
  },
  {
   "cell_type": "markdown",
   "metadata": {},
   "source": [
    "Out of curiosity, I just want a sneak peak as to what songs this dataset classifies as grunge!"
   ]
  },
  {
   "cell_type": "code",
   "execution_count": 77,
   "metadata": {},
   "outputs": [
    {
     "data": {
      "text/html": [
       "<div>\n",
       "<style scoped>\n",
       "    .dataframe tbody tr th:only-of-type {\n",
       "        vertical-align: middle;\n",
       "    }\n",
       "\n",
       "    .dataframe tbody tr th {\n",
       "        vertical-align: top;\n",
       "    }\n",
       "\n",
       "    .dataframe thead th {\n",
       "        text-align: right;\n",
       "    }\n",
       "</style>\n",
       "<table border=\"1\" class=\"dataframe\">\n",
       "  <thead>\n",
       "    <tr style=\"text-align: right;\">\n",
       "      <th></th>\n",
       "      <th>song</th>\n",
       "      <th>artists</th>\n",
       "      <th>track_genre</th>\n",
       "    </tr>\n",
       "  </thead>\n",
       "  <tbody>\n",
       "    <tr>\n",
       "      <th>15998</th>\n",
       "      <td>Failure</td>\n",
       "      <td>Breaking Benjamin</td>\n",
       "      <td>grunge</td>\n",
       "    </tr>\n",
       "    <tr>\n",
       "      <th>19963</th>\n",
       "      <td>Sirens</td>\n",
       "      <td>Pearl Jam</td>\n",
       "      <td>grunge</td>\n",
       "    </tr>\n",
       "    <tr>\n",
       "      <th>22720</th>\n",
       "      <td>Bully</td>\n",
       "      <td>Shinedown</td>\n",
       "      <td>grunge</td>\n",
       "    </tr>\n",
       "    <tr>\n",
       "      <th>23109</th>\n",
       "      <td>When We Stand Together</td>\n",
       "      <td>Nickelback</td>\n",
       "      <td>grunge</td>\n",
       "    </tr>\n",
       "    <tr>\n",
       "      <th>23111</th>\n",
       "      <td>Crawling Back To You</td>\n",
       "      <td>Daughtry</td>\n",
       "      <td>grunge</td>\n",
       "    </tr>\n",
       "  </tbody>\n",
       "</table>\n",
       "</div>"
      ],
      "text/plain": [
       "                         song            artists track_genre\n",
       "15998                 Failure  Breaking Benjamin      grunge\n",
       "19963                  Sirens          Pearl Jam      grunge\n",
       "22720                   Bully          Shinedown      grunge\n",
       "23109  When We Stand Together         Nickelback      grunge\n",
       "23111    Crawling Back To You           Daughtry      grunge"
      ]
     },
     "execution_count": 77,
     "metadata": {},
     "output_type": "execute_result"
    }
   ],
   "source": [
    "grunge = HitSongs[HitSongs['track_genre'].str.contains('grunge', case=False, na=False)]\n",
    "\n",
    "grunge[['song', 'artists', 'track_genre']].head()\n",
    "\n"
   ]
  },
  {
   "cell_type": "markdown",
   "metadata": {},
   "source": [
    "I wasn't expecting grunge to be the most popular of those genres! How exciting!"
   ]
  },
  {
   "cell_type": "markdown",
   "metadata": {},
   "source": [
    "Now, I want to see, on average, how many weeks these songs stayed on the Billboard Top 100 lists! We will do this using mean!"
   ]
  },
  {
   "cell_type": "code",
   "execution_count": 78,
   "metadata": {},
   "outputs": [
    {
     "name": "stdout",
     "output_type": "stream",
     "text": [
      "On average, songs would stay on the Billboard Top 100 list for 17.72 weeks.\n"
     ]
    }
   ],
   "source": [
    "weeks_mean = HitSongs['weeks-on-board'].mean()\n",
    "\n",
    "print(f'On average, songs would stay on the Billboard Top 100 list for {weeks_mean:.2f} weeks.')"
   ]
  },
  {
   "cell_type": "markdown",
   "metadata": {},
   "source": [
    "Okay, so 17 to 18 weeks on average! That is a lot longer than I expected. \n",
    "\n",
    "What songs do you think were on there that long? Let's take a little peak!"
   ]
  },
  {
   "cell_type": "code",
   "execution_count": 79,
   "metadata": {},
   "outputs": [
    {
     "data": {
      "text/html": [
       "<div>\n",
       "<style scoped>\n",
       "    .dataframe tbody tr th:only-of-type {\n",
       "        vertical-align: middle;\n",
       "    }\n",
       "\n",
       "    .dataframe tbody tr th {\n",
       "        vertical-align: top;\n",
       "    }\n",
       "\n",
       "    .dataframe thead th {\n",
       "        text-align: right;\n",
       "    }\n",
       "</style>\n",
       "<table border=\"1\" class=\"dataframe\">\n",
       "  <thead>\n",
       "    <tr style=\"text-align: right;\">\n",
       "      <th></th>\n",
       "      <th>song</th>\n",
       "      <th>artists</th>\n",
       "      <th>weeks-on-board</th>\n",
       "      <th>track_genre</th>\n",
       "    </tr>\n",
       "  </thead>\n",
       "  <tbody>\n",
       "    <tr>\n",
       "      <th>5</th>\n",
       "      <td>Bad Habits</td>\n",
       "      <td>Ed Sheeran</td>\n",
       "      <td>18</td>\n",
       "      <td>pop</td>\n",
       "    </tr>\n",
       "    <tr>\n",
       "      <th>61</th>\n",
       "      <td>A-O-K</td>\n",
       "      <td>Tai Verdes</td>\n",
       "      <td>17</td>\n",
       "      <td>indie-pop</td>\n",
       "    </tr>\n",
       "    <tr>\n",
       "      <th>2120</th>\n",
       "      <td>X Gon' Give It To Ya</td>\n",
       "      <td>DMX</td>\n",
       "      <td>17</td>\n",
       "      <td>hardcore</td>\n",
       "    </tr>\n",
       "    <tr>\n",
       "      <th>3042</th>\n",
       "      <td>Some Girls</td>\n",
       "      <td>Jameson Rodgers</td>\n",
       "      <td>17</td>\n",
       "      <td>country</td>\n",
       "    </tr>\n",
       "    <tr>\n",
       "      <th>4881</th>\n",
       "      <td>Yo Perreo Sola</td>\n",
       "      <td>Bad Bunny</td>\n",
       "      <td>17</td>\n",
       "      <td>latino</td>\n",
       "    </tr>\n",
       "  </tbody>\n",
       "</table>\n",
       "</div>"
      ],
      "text/plain": [
       "                      song          artists  weeks-on-board track_genre\n",
       "5               Bad Habits       Ed Sheeran              18         pop\n",
       "61                   A-O-K       Tai Verdes              17   indie-pop\n",
       "2120  X Gon' Give It To Ya              DMX              17    hardcore\n",
       "3042            Some Girls  Jameson Rodgers              17     country\n",
       "4881        Yo Perreo Sola        Bad Bunny              17      latino"
      ]
     },
     "execution_count": 79,
     "metadata": {},
     "output_type": "execute_result"
    }
   ],
   "source": [
    "weeks_mean = HitSongs[(HitSongs['weeks-on-board'] >= 17) & (HitSongs['weeks-on-board'] <= 18)]\n",
    "\n",
    "weeks_mean[['song', 'artists', 'weeks-on-board', 'track_genre']].head()"
   ]
  },
  {
   "cell_type": "markdown",
   "metadata": {},
   "source": [
    "Now, let's do a few quick calculations. I want to find the average and the most common results for the following columns: dancebility, energy, speechiness, acousticness, valence, and tempo. The reason that these are the columns I am doing calculations on is these are the columns that I believe are what are more closely related to what makes a song popular. "
   ]
  },
  {
   "cell_type": "markdown",
   "metadata": {},
   "source": [
    "First, let's look at the danceability of the songs. \n",
    "\n",
    "Danceability is defined as describing how well the track is suited for dancing (this is based on tempo, how stable the rhythm is, beat strength, and overall regularity of the beat). This is based on a 0.0 to 1.0 scale: 0.0 being the least danceable and 1.0 being the most danceable."
   ]
  },
  {
   "cell_type": "code",
   "execution_count": 80,
   "metadata": {},
   "outputs": [
    {
     "name": "stdout",
     "output_type": "stream",
     "text": [
      "On average, the songs danceability is 0.577.\n",
      "The most common danceability rating for the songs is 0.552.\n"
     ]
    }
   ],
   "source": [
    "# danceability data\n",
    "\n",
    "# mean\n",
    "dance_mean = HitSongs['danceability'].mean()\n",
    "\n",
    "print(f'On average, the songs danceability is {dance_mean:.3f}.')\n",
    "\n",
    "# mode\n",
    "dance_mode = HitSongs['danceability'].mode()\n",
    "\n",
    "print(f'The most common danceability rating for the songs is {dance_mode[0]:.3f}.')"
   ]
  },
  {
   "cell_type": "markdown",
   "metadata": {},
   "source": [
    "Next, let's look at how energetic the songs are!\n",
    "\n",
    "In this case, energy is a perceptual measure of how intense the music is and the activity.  This is rated on a scale of 0.0, being the least energetic, and 1.0, being the most energetic.\n",
    "\n",
    "In this case, think of a relaxing Debussy piece being 0.0, and rave music (which is made to make you want to dance and move) being a 1.0."
   ]
  },
  {
   "cell_type": "code",
   "execution_count": 81,
   "metadata": {},
   "outputs": [
    {
     "name": "stdout",
     "output_type": "stream",
     "text": [
      "On average, the songs energy is 0.670.\n",
      "The most common energy rating for the songs is 0.858.\n"
     ]
    }
   ],
   "source": [
    "# energy data\n",
    "\n",
    "# mean\n",
    "energy_mean = HitSongs['energy'].mean()\n",
    "\n",
    "print(f'On average, the songs energy is {energy_mean:.3f}.')\n",
    "\n",
    "# mode\n",
    "energy_mode = HitSongs['energy'].mode()\n",
    "\n",
    "print(f'The most common energy rating for the songs is {energy_mode[0]:.3f}.')"
   ]
  },
  {
   "cell_type": "markdown",
   "metadata": {},
   "source": [
    "Time to look at how \"speechy\" a song is!\n",
    "\n",
    "Speechiness is what detects spoken or sung words in a track. The more speech there is in a track, (think audiobooks, podcasts, talk shows, etc.), the closer to 1.0. \n",
    "\n",
    "According to the creator of the Spotify data, \"Values above 0.66 describe tracks that are probably made entirely of spoken words. Values between 0.33 and 0.66 describe tracks that may contain both music and speech, either in sections or layered, including such cases as rap music. Values below 0.33 most likely represent music and other non-speech-like tracks.\""
   ]
  },
  {
   "cell_type": "code",
   "execution_count": 82,
   "metadata": {},
   "outputs": [
    {
     "name": "stdout",
     "output_type": "stream",
     "text": [
      "On average, the songs speechiness is 0.061.\n",
      "The most common speechiness rating for the songs is 0.029.\n"
     ]
    }
   ],
   "source": [
    "# speechiness data\n",
    "\n",
    "# mean\n",
    "speechy_mean = HitSongs['speechiness'].mean()\n",
    "\n",
    "print(f'On average, the songs speechiness is {speechy_mean:.3f}.')\n",
    "\n",
    "# mode\n",
    "speechy_mode = HitSongs['speechiness'].mode()\n",
    "\n",
    "print(f'The most common speechiness rating for the songs is {speechy_mode[0]:.3f}.')"
   ]
  },
  {
   "cell_type": "markdown",
   "metadata": {},
   "source": [
    " Next, let's examine how acoustic the songs are!\n",
    "\n",
    " Acousticness is just that - how acoustic the song was. This is on a scale of 0.0 to 1.0, with 1.0 being high confidence that the song is acoustic!"
   ]
  },
  {
   "cell_type": "code",
   "execution_count": 83,
   "metadata": {},
   "outputs": [
    {
     "name": "stdout",
     "output_type": "stream",
     "text": [
      "On average, the songs acousticness is 0.226.\n",
      "The most common acousticness rating for the songs is 0.109.\n"
     ]
    }
   ],
   "source": [
    "# acousticness data\n",
    "\n",
    "# mean\n",
    "acoustics_mean = HitSongs['acousticness'].mean()\n",
    "\n",
    "print(f'On average, the songs acousticness is {acoustics_mean:.3f}.')\n",
    "\n",
    "# mode\n",
    "acoustics_mode = HitSongs['acousticness'].mode()\n",
    "\n",
    "print(f'The most common acousticness rating for the songs is {acoustics_mode[0]:.3f}.')"
   ]
  },
  {
   "cell_type": "markdown",
   "metadata": {},
   "source": [
    "Now we look at the valence of the music.\n",
    "\n",
    "Valence is the \"mood\" of the tracks, for lack of better word. Songs that are closer to 0.0 are more negative (i.e., sad, angry), while songs that are closer to 1.0 are high valence (i.e., happy, cheerful)."
   ]
  },
  {
   "cell_type": "code",
   "execution_count": 84,
   "metadata": {},
   "outputs": [
    {
     "name": "stdout",
     "output_type": "stream",
     "text": [
      "On average, the songs valence is 0.554.\n",
      "The most common valence rating for the songs is 0.485.\n"
     ]
    }
   ],
   "source": [
    "# valence data\n",
    "\n",
    "# mean\n",
    "valence_mean = HitSongs['valence'].mean()\n",
    "\n",
    "print(f'On average, the songs valence is {valence_mean:.3f}.')\n",
    "\n",
    "# mode\n",
    "valence_mode = HitSongs['valence'].mode()\n",
    "\n",
    "print(f'The most common valence rating for the songs is {valence_mode[0]:.3f}.')"
   ]
  },
  {
   "cell_type": "markdown",
   "metadata": {},
   "source": [
    "Finally, time to look at the tempo of the data. \n",
    "\n",
    "Tempo is measured in beets per minute (BMP). In music, tempo is the speed of a piece. It's literally derived from how many beats you can measure in a minute!"
   ]
  },
  {
   "cell_type": "code",
   "execution_count": 85,
   "metadata": {},
   "outputs": [
    {
     "name": "stdout",
     "output_type": "stream",
     "text": [
      "On average, the songs valence is 122.285.\n",
      "The most common tempo rating for the songs is 77.004.\n"
     ]
    }
   ],
   "source": [
    "# tempo data\n",
    "\n",
    "# mean\n",
    "tempo_mean = HitSongs['tempo'].mean()\n",
    "\n",
    "print(f'On average, the songs valence is {tempo_mean:.3f}.')\n",
    "\n",
    "# mode\n",
    "tempo_mode = HitSongs['tempo'].mode()\n",
    "\n",
    "print(f'The most common tempo rating for the songs is {tempo_mode[0]:.3f}.')"
   ]
  },
  {
   "cell_type": "markdown",
   "metadata": {},
   "source": [
    "Now that's a lot of interesting data! I'm sure we can get some good information from that."
   ]
  },
  {
   "cell_type": "markdown",
   "metadata": {},
   "source": [
    "# Next, I would like to make a few plots just to look at this data a little deeper.\n",
    "## To see the plots, please go to the HitSongs.py file and run the file! It will populate all the plots one at a time.\n",
    "### After you have looked at the plots, return to this file to see my findings!"
   ]
  },
  {
   "cell_type": "markdown",
   "metadata": {},
   "source": [
    "# Welcome back!\n",
    "## Let's talk about those plots."
   ]
  },
  {
   "cell_type": "markdown",
   "metadata": {},
   "source": [
    "As a quick reminder, the 6 columns of interest for me were danceability, energy, valence, speechiness, acousticness, and tempo.\n",
    "\n",
    "For the first plot examining the comparison between energy and danceability, we see a large cluster towards the top of energy and between .4 and .6 on the danceability scale, it looks like songs that are higher energy, but only moderately danceable are more popular; this led me to wonder about these 2 columns and how they correlate with valence. With this in mind, it lead me to make the next plot!\n",
    "\n",
    "In the next plot, I made a trendline plot of the danceability, energy, and valence columns to see if there was any correlations between the 3 columns. While energy and danceability did not cross each other, valence did cross with both of them fairly close, within 0.1 of each other on the scale. This further leads me to believing that there is a strong correlation between these 3 things and what makes a song popular. However, there are still 3 more plots I made.\n",
    "\n",
    "The next 2 plots is the boxplots comparing all 6 of the columns I was interested in finding information on. The first boxplot contains the information for danceability, energy, valence, acousticness, and valence, and the second boxplot was only tempo. The first thing I noticed was just how many outliers there was for speechiness. Statistically speaking, usually, when data has a lot of outliers, it has to do with the amount of data being calculated and how much the data deviated from the general pattern, which can skew the analysis done by the plot. Because of the amount of outliers, this is the reason I decided to do a histogram for the final plot, but we'll get to that in a minute. Looking at the rest of the data on the boxplots, danceabiliy, energy, and valence do have a lot of overlap with each other, and the upper quartile value of the acousticness plot seems to just overlap with those. The tempo boxplot seems to have 100 bpm to 140 bmp as a good tempo range, which seems about right to me as a musician.\n",
    "\n",
    "The final plot shows the histograms for all 6 of the columns in question. For danceability, a good range to focus on is 0.5 to 0.7. For energy, since there seems to be a like for higher-energy songs, a good range to look at seems to be between 0.7 to 0.9. For speechiness, it seems that it drops off at 0.45, so I'm just going to go ahead and call the range for that 0.0 to 0.45. For acousticness, a good range seems to be between 0.0 and 0.4. Valence has an interesting histogram as it seems a little bumpy, but a good range seems between 0.4 to 0.8. For tempo, like in the boxplot, a good range seems to be in the 100bmp to 140bmp range. "
   ]
  },
  {
   "cell_type": "markdown",
   "metadata": {},
   "source": [
    "# \"What do these ranges even mean?\" \n",
    "## \"What makes a song a hit?\" \n",
    "\n",
    "You might be asking. In my opinion, it seems like songs that you can dance to and have a good time to, but aren't too serious about the lyrics are a good mix. These are songs that can range from being a little melancholic to songs that make you feel a little happier, but are a little lighter on the instruments, with a good, strong tempo that allows you to dance to it.\n",
    "\n",
    "Mind you, these things are pretty subjective. What is a melancholic song to me might be a terribly sad song to you, or a happy song to someone else. That's the beauty of music -- it makes us all feel something.\n",
    "\n",
    "But, since we have those ranges I talked about above, why don't we try seeing if we can pull up any songs that are within all those ranges above?"
   ]
  },
  {
   "cell_type": "code",
   "execution_count": 86,
   "metadata": {},
   "outputs": [
    {
     "data": {
      "text/html": [
       "<div>\n",
       "<style scoped>\n",
       "    .dataframe tbody tr th:only-of-type {\n",
       "        vertical-align: middle;\n",
       "    }\n",
       "\n",
       "    .dataframe tbody tr th {\n",
       "        vertical-align: top;\n",
       "    }\n",
       "\n",
       "    .dataframe thead th {\n",
       "        text-align: right;\n",
       "    }\n",
       "</style>\n",
       "<table border=\"1\" class=\"dataframe\">\n",
       "  <thead>\n",
       "    <tr style=\"text-align: right;\">\n",
       "      <th></th>\n",
       "      <th>song</th>\n",
       "      <th>artists</th>\n",
       "      <th>danceability</th>\n",
       "      <th>energy</th>\n",
       "      <th>speechiness</th>\n",
       "      <th>acousticness</th>\n",
       "      <th>valence</th>\n",
       "      <th>tempo</th>\n",
       "      <th>track_genre</th>\n",
       "    </tr>\n",
       "  </thead>\n",
       "  <tbody>\n",
       "    <tr>\n",
       "      <th>1266</th>\n",
       "      <td>Follow You</td>\n",
       "      <td>Imagine Dragons</td>\n",
       "      <td>0.542</td>\n",
       "      <td>0.732</td>\n",
       "      <td>0.0521</td>\n",
       "      <td>0.00209</td>\n",
       "      <td>0.489</td>\n",
       "      <td>124.912</td>\n",
       "      <td>rock</td>\n",
       "    </tr>\n",
       "    <tr>\n",
       "      <th>1925</th>\n",
       "      <td>Somebody Like That</td>\n",
       "      <td>Tenille Arts</td>\n",
       "      <td>0.574</td>\n",
       "      <td>0.798</td>\n",
       "      <td>0.0485</td>\n",
       "      <td>0.01520</td>\n",
       "      <td>0.580</td>\n",
       "      <td>105.034</td>\n",
       "      <td>country</td>\n",
       "    </tr>\n",
       "    <tr>\n",
       "      <th>1995</th>\n",
       "      <td>Save Your Tears</td>\n",
       "      <td>The Weeknd</td>\n",
       "      <td>0.680</td>\n",
       "      <td>0.826</td>\n",
       "      <td>0.0309</td>\n",
       "      <td>0.02120</td>\n",
       "      <td>0.644</td>\n",
       "      <td>118.051</td>\n",
       "      <td>pop</td>\n",
       "    </tr>\n",
       "    <tr>\n",
       "      <th>4598</th>\n",
       "      <td>Lovesick Girls</td>\n",
       "      <td>BLACKPINK</td>\n",
       "      <td>0.658</td>\n",
       "      <td>0.732</td>\n",
       "      <td>0.0654</td>\n",
       "      <td>0.00513</td>\n",
       "      <td>0.409</td>\n",
       "      <td>127.995</td>\n",
       "      <td>k-pop</td>\n",
       "    </tr>\n",
       "    <tr>\n",
       "      <th>4878</th>\n",
       "      <td>After A Few</td>\n",
       "      <td>Travis Denning</td>\n",
       "      <td>0.619</td>\n",
       "      <td>0.855</td>\n",
       "      <td>0.0346</td>\n",
       "      <td>0.01550</td>\n",
       "      <td>0.656</td>\n",
       "      <td>107.004</td>\n",
       "      <td>country</td>\n",
       "    </tr>\n",
       "  </tbody>\n",
       "</table>\n",
       "</div>"
      ],
      "text/plain": [
       "                    song          artists  danceability  energy  speechiness  \\\n",
       "1266          Follow You  Imagine Dragons         0.542   0.732       0.0521   \n",
       "1925  Somebody Like That     Tenille Arts         0.574   0.798       0.0485   \n",
       "1995     Save Your Tears       The Weeknd         0.680   0.826       0.0309   \n",
       "4598      Lovesick Girls        BLACKPINK         0.658   0.732       0.0654   \n",
       "4878         After A Few   Travis Denning         0.619   0.855       0.0346   \n",
       "\n",
       "      acousticness  valence    tempo track_genre  \n",
       "1266       0.00209    0.489  124.912        rock  \n",
       "1925       0.01520    0.580  105.034     country  \n",
       "1995       0.02120    0.644  118.051         pop  \n",
       "4598       0.00513    0.409  127.995       k-pop  \n",
       "4878       0.01550    0.656  107.004     country  "
      ]
     },
     "execution_count": 86,
     "metadata": {},
     "output_type": "execute_result"
    }
   ],
   "source": [
    "hitranges = HitSongs[\n",
    "    (HitSongs['danceability'] >= 0.5) & (HitSongs['danceability'] <= 0.7) &\n",
    "    (HitSongs['energy'] >= 0.7) & (HitSongs['energy'] <= 0.9) &\n",
    "    (HitSongs['speechiness'] >= 0.0) & (HitSongs['speechiness'] <= 0.45) &\n",
    "    (HitSongs['acousticness'] >= 0.0) & (HitSongs['acousticness'] <= 0.4) &\n",
    "    (HitSongs['valence'] >= 0.4) & (HitSongs['valence'] <= 0.8) &\n",
    "    (HitSongs['tempo'] >= 100) & (HitSongs['tempo'] <= 140)\n",
    "    ]\n",
    "\n",
    "hitranges[['song', 'artists', 'danceability', 'energy', 'speechiness', 'acousticness', 'valence', 'tempo', 'track_genre']].head()"
   ]
  },
  {
   "cell_type": "markdown",
   "metadata": {},
   "source": [
    "# Honestly, I think these songs would make a pretty cool playlist.\n",
    "## Wait, I already did. The link to the Spotify playlist will be towards the end of the README.me file!"
   ]
  },
  {
   "cell_type": "markdown",
   "metadata": {},
   "source": [
    "Out of curiousty, I wonder just how many songs are in the dataframe in total, and how many of these fit in these ranges."
   ]
  },
  {
   "cell_type": "code",
   "execution_count": 87,
   "metadata": {},
   "outputs": [
    {
     "name": "stdout",
     "output_type": "stream",
     "text": [
      "In total, there are 1656 in the dataframe. Of these, only 115 fall into the specified ranges.\n",
      "That means only 6.944% of songs in this dataframe are within these ranges.\n"
     ]
    }
   ],
   "source": [
    "num_rows_whole = HitSongs.shape[0]\n",
    "num_rows_ranges = hitranges.shape[0]\n",
    "percent = num_rows_ranges/num_rows_whole\n",
    "\n",
    "print(f'In total, there are {num_rows_whole} in the dataframe. Of these, only {num_rows_ranges} fall into the specified ranges.')\n",
    "print(f'That means only {(percent * 100):.3f}% of songs in this dataframe are within these ranges.')"
   ]
  },
  {
   "cell_type": "markdown",
   "metadata": {},
   "source": [
    "# Thank you for coming on this journey with me.\n",
    "\n",
    "Feel free to reach out if you have any questions!"
   ]
  },
  {
   "cell_type": "code",
   "execution_count": 88,
   "metadata": {},
   "outputs": [
    {
     "name": "stdout",
     "output_type": "stream",
     "text": [
      "date               object\n",
      "rank                int64\n",
      "song               object\n",
      "artists            object\n",
      "last-week         float64\n",
      "peak-rank           int64\n",
      "weeks-on-board      int64\n",
      "dtype: object\n",
      "number                int64\n",
      "track_id             object\n",
      "artists              object\n",
      "album_name           object\n",
      "song                 object\n",
      "popularity            int64\n",
      "duration_ms           int64\n",
      "explicit               bool\n",
      "danceability        float64\n",
      "energy              float64\n",
      "key                   int64\n",
      "loudness            float64\n",
      "mode                  int64\n",
      "speechiness         float64\n",
      "acousticness        float64\n",
      "instrumentalness    float64\n",
      "liveness            float64\n",
      "valence             float64\n",
      "tempo               float64\n",
      "time_signature        int64\n",
      "track_genre          object\n",
      "dtype: object\n",
      "date               object\n",
      "rank                int64\n",
      "song               object\n",
      "artists            object\n",
      "peak-rank           int64\n",
      "weeks-on-board      int64\n",
      "album_name         object\n",
      "danceability      float64\n",
      "energy            float64\n",
      "key                 int64\n",
      "speechiness       float64\n",
      "acousticness      float64\n",
      "liveness          float64\n",
      "valence           float64\n",
      "tempo             float64\n",
      "track_genre        object\n",
      "dtype: object\n"
     ]
    }
   ],
   "source": [
    "print(Billboard_Charts.dtypes)\n",
    "\n",
    "print(Spotify_Data.dtypes)\n",
    "\n",
    "print(HitSongs.dtypes)"
   ]
  }
 ],
 "metadata": {
  "kernelspec": {
   "display_name": "venv",
   "language": "python",
   "name": "python3"
  },
  "language_info": {
   "codemirror_mode": {
    "name": "ipython",
    "version": 3
   },
   "file_extension": ".py",
   "mimetype": "text/x-python",
   "name": "python",
   "nbconvert_exporter": "python",
   "pygments_lexer": "ipython3",
   "version": "3.9.13"
  }
 },
 "nbformat": 4,
 "nbformat_minor": 2
}
